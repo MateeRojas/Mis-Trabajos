{
  "nbformat": 4,
  "nbformat_minor": 0,
  "metadata": {
    "colab": {
      "name": "KNN_FINAL.ipynb",
      "provenance": [],
      "collapsed_sections": []
    },
    "kernelspec": {
      "name": "python3",
      "display_name": "Python 3"
    }
  },
  "cells": [
    {
      "cell_type": "code",
      "metadata": {
        "id": "9C8TyqNe1EBN"
      },
      "source": [
        "import pandas as pd\r\n",
        "import numpy as np\r\n",
        "import matplotlib.pyplot as plt\r\n",
        "from matplotlib.colors import ListedColormap\r\n",
        "import matplotlib.patches as mpatches\r\n",
        "import seaborn as sb\r\n",
        "\r\n",
        "%matplotlib inline\r\n",
        "plt.rcParams['figure.figsize'] = (16, 9)\r\n",
        "plt.style.use('ggplot')\r\n",
        "\r\n",
        "from sklearn.model_selection import train_test_split\r\n",
        "from sklearn.preprocessing import MinMaxScaler\r\n",
        "from sklearn.neighbors import KNeighborsRegressor\r\n",
        "from sklearn.metrics import confusion_matrix\r\n",
        "from sklearn.metrics import log_loss\r\n",
        "from sklearn import preprocessing\r\n",
        "from google.colab import files\r\n",
        "from sklearn.ensemble import AdaBoostRegressor\r\n",
        "from sklearn.ensemble import VotingRegressor\r\n",
        "import warnings \r\n",
        "import numpy as np\r\n",
        "import pandas as pd\r\n",
        "from pylab import rcParams\r\n",
        "import matplotlib.pyplot as plt\r\n",
        "from sklearn import neighbors\r\n",
        "from matplotlib.colors import ListedColormap\r\n",
        "from sklearn.metrics import accuracy_score, classification_report\r\n",
        "warnings.filterwarnings(\"ignore\")\r\n",
        "\r\n",
        "\r\n"
      ],
      "execution_count": null,
      "outputs": []
    },
    {
      "cell_type": "markdown",
      "metadata": {
        "id": "cAc-g3JHWrsH"
      },
      "source": [
        "Importo los Dataframes"
      ]
    },
    {
      "cell_type": "code",
      "metadata": {
        "colab": {
          "base_uri": "https://localhost:8080/",
          "height": 204
        },
        "id": "_9HYUYzw1Nnj",
        "outputId": "710f826c-25a7-430d-a4b2-a8ff9864111a"
      },
      "source": [
        "oportunidades = pd.read_csv('/content/short_df_Encoded.csv')\r\n",
        "oportunidades.drop(columns= {'Unnamed: 0'}, inplace=True)\r\n",
        "test = pd.read_csv('/content/DataFrame_test_encoded.csv')\r\n",
        "oportunidades.head()"
      ],
      "execution_count": null,
      "outputs": [
        {
          "output_type": "execute_result",
          "data": {
            "text/html": [
              "<div>\n",
              "<style scoped>\n",
              "    .dataframe tbody tr th:only-of-type {\n",
              "        vertical-align: middle;\n",
              "    }\n",
              "\n",
              "    .dataframe tbody tr th {\n",
              "        vertical-align: top;\n",
              "    }\n",
              "\n",
              "    .dataframe thead th {\n",
              "        text-align: right;\n",
              "    }\n",
              "</style>\n",
              "<table border=\"1\" class=\"dataframe\">\n",
              "  <thead>\n",
              "    <tr style=\"text-align: right;\">\n",
              "      <th></th>\n",
              "      <th>Region_APAC</th>\n",
              "      <th>Region_Americas</th>\n",
              "      <th>Region_EMEA</th>\n",
              "      <th>Region_Japan</th>\n",
              "      <th>Region_Middle East</th>\n",
              "      <th>Total_Amount</th>\n",
              "      <th>TRF</th>\n",
              "      <th>Pricing, Delivery_Terms_Approved</th>\n",
              "      <th>Pricing, Delivery_Terms_Quote_Appr</th>\n",
              "      <th>Decision</th>\n",
              "    </tr>\n",
              "  </thead>\n",
              "  <tbody>\n",
              "    <tr>\n",
              "      <th>0</th>\n",
              "      <td>0.0</td>\n",
              "      <td>0.0</td>\n",
              "      <td>1.0</td>\n",
              "      <td>0.0</td>\n",
              "      <td>0.0</td>\n",
              "      <td>15.635076</td>\n",
              "      <td>10.0</td>\n",
              "      <td>1.0</td>\n",
              "      <td>1.0</td>\n",
              "      <td>0.0</td>\n",
              "    </tr>\n",
              "    <tr>\n",
              "      <th>1</th>\n",
              "      <td>0.0</td>\n",
              "      <td>0.0</td>\n",
              "      <td>1.0</td>\n",
              "      <td>0.0</td>\n",
              "      <td>0.0</td>\n",
              "      <td>10.940740</td>\n",
              "      <td>0.0</td>\n",
              "      <td>0.0</td>\n",
              "      <td>0.0</td>\n",
              "      <td>1.0</td>\n",
              "    </tr>\n",
              "    <tr>\n",
              "      <th>2</th>\n",
              "      <td>0.0</td>\n",
              "      <td>1.0</td>\n",
              "      <td>0.0</td>\n",
              "      <td>0.0</td>\n",
              "      <td>0.0</td>\n",
              "      <td>11.336971</td>\n",
              "      <td>0.0</td>\n",
              "      <td>0.0</td>\n",
              "      <td>0.0</td>\n",
              "      <td>1.0</td>\n",
              "    </tr>\n",
              "    <tr>\n",
              "      <th>3</th>\n",
              "      <td>0.0</td>\n",
              "      <td>1.0</td>\n",
              "      <td>0.0</td>\n",
              "      <td>0.0</td>\n",
              "      <td>0.0</td>\n",
              "      <td>15.819943</td>\n",
              "      <td>14.0</td>\n",
              "      <td>0.0</td>\n",
              "      <td>1.0</td>\n",
              "      <td>0.0</td>\n",
              "    </tr>\n",
              "    <tr>\n",
              "      <th>4</th>\n",
              "      <td>0.0</td>\n",
              "      <td>1.0</td>\n",
              "      <td>0.0</td>\n",
              "      <td>0.0</td>\n",
              "      <td>0.0</td>\n",
              "      <td>16.407566</td>\n",
              "      <td>25.0</td>\n",
              "      <td>0.0</td>\n",
              "      <td>1.0</td>\n",
              "      <td>0.0</td>\n",
              "    </tr>\n",
              "  </tbody>\n",
              "</table>\n",
              "</div>"
            ],
            "text/plain": [
              "   Region_APAC  Region_Americas  ...  Pricing, Delivery_Terms_Quote_Appr  Decision\n",
              "0          0.0              0.0  ...                                 1.0       0.0\n",
              "1          0.0              0.0  ...                                 0.0       1.0\n",
              "2          0.0              1.0  ...                                 0.0       1.0\n",
              "3          0.0              1.0  ...                                 1.0       0.0\n",
              "4          0.0              1.0  ...                                 1.0       0.0\n",
              "\n",
              "[5 rows x 10 columns]"
            ]
          },
          "metadata": {
            "tags": []
          },
          "execution_count": 8
        }
      ]
    },
    {
      "cell_type": "code",
      "metadata": {
        "colab": {
          "base_uri": "https://localhost:8080/",
          "height": 221
        },
        "id": "14KekpbGfTEb",
        "outputId": "b31ede87-582b-4312-8081-28d308fbeba5"
      },
      "source": [
        "test.head()"
      ],
      "execution_count": null,
      "outputs": [
        {
          "output_type": "execute_result",
          "data": {
            "text/html": [
              "<div>\n",
              "<style scoped>\n",
              "    .dataframe tbody tr th:only-of-type {\n",
              "        vertical-align: middle;\n",
              "    }\n",
              "\n",
              "    .dataframe tbody tr th {\n",
              "        vertical-align: top;\n",
              "    }\n",
              "\n",
              "    .dataframe thead th {\n",
              "        text-align: right;\n",
              "    }\n",
              "</style>\n",
              "<table border=\"1\" class=\"dataframe\">\n",
              "  <thead>\n",
              "    <tr style=\"text-align: right;\">\n",
              "      <th></th>\n",
              "      <th>Unnamed: 0</th>\n",
              "      <th>Region_APAC</th>\n",
              "      <th>Region_Americas</th>\n",
              "      <th>Region_EMEA</th>\n",
              "      <th>Region_Japan</th>\n",
              "      <th>Region_Middle East</th>\n",
              "      <th>Opportunity_ID</th>\n",
              "      <th>Total_Amount</th>\n",
              "      <th>TRF</th>\n",
              "      <th>Pricing, Delivery_Terms_Approved</th>\n",
              "      <th>Pricing, Delivery_Terms_Quote_Appr</th>\n",
              "    </tr>\n",
              "  </thead>\n",
              "  <tbody>\n",
              "    <tr>\n",
              "      <th>0</th>\n",
              "      <td>0</td>\n",
              "      <td>0.0</td>\n",
              "      <td>0.0</td>\n",
              "      <td>1.0</td>\n",
              "      <td>0.0</td>\n",
              "      <td>0.0</td>\n",
              "      <td>10689.0</td>\n",
              "      <td>11.905436</td>\n",
              "      <td>0.0</td>\n",
              "      <td>1.0</td>\n",
              "      <td>1.0</td>\n",
              "    </tr>\n",
              "    <tr>\n",
              "      <th>1</th>\n",
              "      <td>1</td>\n",
              "      <td>0.0</td>\n",
              "      <td>0.0</td>\n",
              "      <td>1.0</td>\n",
              "      <td>0.0</td>\n",
              "      <td>0.0</td>\n",
              "      <td>10690.0</td>\n",
              "      <td>11.787392</td>\n",
              "      <td>0.0</td>\n",
              "      <td>1.0</td>\n",
              "      <td>1.0</td>\n",
              "    </tr>\n",
              "    <tr>\n",
              "      <th>2</th>\n",
              "      <td>2</td>\n",
              "      <td>0.0</td>\n",
              "      <td>1.0</td>\n",
              "      <td>0.0</td>\n",
              "      <td>0.0</td>\n",
              "      <td>0.0</td>\n",
              "      <td>10691.0</td>\n",
              "      <td>9.954062</td>\n",
              "      <td>0.0</td>\n",
              "      <td>1.0</td>\n",
              "      <td>1.0</td>\n",
              "    </tr>\n",
              "    <tr>\n",
              "      <th>3</th>\n",
              "      <td>3</td>\n",
              "      <td>0.0</td>\n",
              "      <td>1.0</td>\n",
              "      <td>0.0</td>\n",
              "      <td>0.0</td>\n",
              "      <td>0.0</td>\n",
              "      <td>10692.0</td>\n",
              "      <td>12.338534</td>\n",
              "      <td>1.0</td>\n",
              "      <td>1.0</td>\n",
              "      <td>1.0</td>\n",
              "    </tr>\n",
              "    <tr>\n",
              "      <th>4</th>\n",
              "      <td>4</td>\n",
              "      <td>0.0</td>\n",
              "      <td>1.0</td>\n",
              "      <td>0.0</td>\n",
              "      <td>0.0</td>\n",
              "      <td>0.0</td>\n",
              "      <td>10693.0</td>\n",
              "      <td>8.657390</td>\n",
              "      <td>0.0</td>\n",
              "      <td>0.0</td>\n",
              "      <td>0.0</td>\n",
              "    </tr>\n",
              "  </tbody>\n",
              "</table>\n",
              "</div>"
            ],
            "text/plain": [
              "   Unnamed: 0  ...  Pricing, Delivery_Terms_Quote_Appr\n",
              "0           0  ...                                 1.0\n",
              "1           1  ...                                 1.0\n",
              "2           2  ...                                 1.0\n",
              "3           3  ...                                 1.0\n",
              "4           4  ...                                 0.0\n",
              "\n",
              "[5 rows x 11 columns]"
            ]
          },
          "metadata": {
            "tags": []
          },
          "execution_count": 9
        }
      ]
    },
    {
      "cell_type": "markdown",
      "metadata": {
        "id": "aPZbV45TFOmH"
      },
      "source": [
        "Primero aplico una funcion que me da una vista general de como irá el modelo"
      ]
    },
    {
      "cell_type": "code",
      "metadata": {
        "id": "2Sm11WM7EuhO"
      },
      "source": [
        "\r\n",
        "def classify_and_plot(X, y):\r\n",
        "\r\n",
        "    X_train, X_test, y_train, y_test = train_test_split(X, y, test_size = 0.33, random_state = 41)\r\n",
        "    n_neighbors = 10\r\n",
        "    h = .02 \r\n",
        "\r\n",
        "    cmap_light = ListedColormap(['#FFAAAA', '#AAAAFF'])\r\n",
        "    cmap_bold  = ListedColormap(['#FF0000', '#0000FF'])\r\n",
        "\r\n",
        "    rcParams['figure.figsize'] = 5, 5\r\n",
        "    for weights in ['uniform', 'distance']:\r\n",
        "      for distances in ['euclidean', 'manhattan', 'minkowski']:\r\n",
        "        knn = neighbors.KNeighborsRegressor(n_neighbors, weights=weights, metric=distances)\r\n",
        "        knn.fit(X_train, y_train)\r\n",
        "\r\n",
        "        x_min, x_max = X[:, 0].min() - 1, X[:, 0].max() + 1\r\n",
        "        y_min, y_max = X[:, 1].min() - 1, X[:, 1].max() + 1\r\n",
        "        xx, yy = np.meshgrid(np.arange(x_min, x_max, h),\r\n",
        "                             np.arange(y_min, y_max, h))\r\n",
        "        Z = knn.predict(np.c_[xx.ravel(), yy.ravel()])\r\n",
        "        Z = Z.reshape(xx.shape)\r\n",
        "        fig = plt.figure()\r\n",
        "        plt.pcolormesh(xx, yy, Z, cmap=cmap_light)\r\n",
        " \r\n",
        "        plt.scatter(X[:, 0], X[:, 1], c=y, cmap=cmap_bold, edgecolor='k', s=20)   \r\n",
        "        plt.xlim(xx.min(), xx.max())\r\n",
        "        plt.ylim(yy.min(), yy.max())\r\n",
        "        plt.title(\"k = %i, weights = '%s', metrica = '%s'\" % (n_neighbors, weights, distances))\r\n",
        "        plt.show()\r\n",
        "        fig.savefig(weights +'.png')\r\n",
        "\r\n",
        "        y_expected  = y_test\r\n",
        "        y_predicted = knn.predict(X_test)"
      ],
      "execution_count": null,
      "outputs": []
    },
    {
      "cell_type": "code",
      "metadata": {
        "colab": {
          "base_uri": "https://localhost:8080/",
          "height": 1000
        },
        "id": "fYgq13LiFa-l",
        "outputId": "0a46debd-429c-4f5c-d63d-2344cc191a1d"
      },
      "source": [
        "names = list(oportunidades.columns)\r\n",
        "\r\n",
        "rows_nbr = 30 \r\n",
        "X_prime  = np.array(oportunidades.iloc[:rows_nbr, [1,5]])\r\n",
        "X        = X_prime # preprocessing.scale(X_prime)\r\n",
        "y        = np.array(oportunidades.iloc[:rows_nbr, 8])\r\n",
        "\r\n",
        "classify_and_plot(X, y)"
      ],
      "execution_count": null,
      "outputs": [
        {
          "output_type": "display_data",
          "data": {
            "image/png": "[encoded data removed]",
            "text/plain": [
              "<Figure size 360x360 with 1 Axes>"
            ]
          },
          "metadata": {
            "tags": []
          }
        },
        {
          "output_type": "display_data",
          "data": {
            "image/png": "[encoded data removed]",
            "text/plain": [
              "<Figure size 360x360 with 1 Axes>"
            ]
          },
          "metadata": {
            "tags": []
          }
        },
        {
          "output_type": "display_data",
          "data": {
            "image/png": "[encoded data removed]",
            "text/plain": [
              "<Figure size 360x360 with 1 Axes>"
            ]
          },
          "metadata": {
            "tags": []
          }
        },
        {
          "output_type": "display_data",
          "data": {
            "image/png": "[encoded data removed]",
            "text/plain": [
              "<Figure size 360x360 with 1 Axes>"
            ]
          },
          "metadata": {
            "tags": []
          }
        },
        {
          "output_type": "display_data",
          "data": {
            "image/png": "[encoded data removed]",
            "text/plain": [
              "<Figure size 360x360 with 1 Axes>"
            ]
          },
          "metadata": {
            "tags": []
          }
        },
        {
          "output_type": "display_data",
          "data": {
            "image/png": "[encoded data removed]",
            "text/plain": [
              "<Figure size 360x360 with 1 Axes>"
            ]
          },
          "metadata": {
            "tags": []
          }
        }
      ]
    },
    {
      "cell_type": "markdown",
      "metadata": {
        "id": "dxMO1Hf6Xdfw"
      },
      "source": [
        "Y ahora hago un unico modelo que luego de una investigacion por grid search tiene buen futuro.\r\n",
        "Hago el split del Dataframe de entrenamiento"
      ]
    },
    {
      "cell_type": "code",
      "metadata": {
        "id": "HLnT5JEZXkj8"
      },
      "source": [
        "X = oportunidades.loc[:,oportunidades.columns != 'Decision'].values\r\n",
        "y = oportunidades.loc[:,'Decision'].values\r\n",
        "\r\n",
        "X_train, X_test, y_train, y_test = train_test_split(X, y, random_state=123)\r\n",
        "scaler = MinMaxScaler()\r\n",
        "\r\n",
        "X_train = scaler.fit_transform(X_train)\r\n",
        "X_test = scaler.transform(X_test)"
      ],
      "execution_count": null,
      "outputs": []
    },
    {
      "cell_type": "markdown",
      "metadata": {
        "id": "v8-9Go1IH_AE"
      },
      "source": [
        "De paso, grafico el log loss con un mejor modelo"
      ]
    },
    {
      "cell_type": "code",
      "metadata": {
        "id": "_ApNWowbswDp"
      },
      "source": [
        "\r\n",
        "array1 = []\r\n",
        "array2 = []\r\n",
        "for i in range(1, 51):\r\n",
        "  k = i\r\n",
        " \r\n",
        "  modelo = KNeighborsRegressor(k)\r\n",
        "  modelo.fit(X_train, y_train)\r\n",
        "  predi = modelo.predict(X_test)\r\n",
        "  loss1 = log_loss(y_test, predi)\r\n",
        "  array1.append(i)\r\n",
        "  array2.append(loss1)\r\n",
        "\r\n",
        "\r\n"
      ],
      "execution_count": null,
      "outputs": []
    },
    {
      "cell_type": "code",
      "metadata": {
        "colab": {
          "base_uri": "https://localhost:8080/",
          "height": 1000
        },
        "id": "rG9sVbIWvjFo",
        "outputId": "4fa9a344-c126-4e06-9ab8-6f2bfc98a272"
      },
      "source": [
        "\r\n",
        "error = pd.DataFrame()\r\n",
        "error['K'] = array1\r\n",
        "error['LogLoss'] = array2\r\n",
        "error.set_index('K', inplace = True)\r\n",
        "error\r\n"
      ],
      "execution_count": null,
      "outputs": [
        {
          "output_type": "execute_result",
          "data": {
            "text/html": [
              "<div>\n",
              "<style scoped>\n",
              "    .dataframe tbody tr th:only-of-type {\n",
              "        vertical-align: middle;\n",
              "    }\n",
              "\n",
              "    .dataframe tbody tr th {\n",
              "        vertical-align: top;\n",
              "    }\n",
              "\n",
              "    .dataframe thead th {\n",
              "        text-align: right;\n",
              "    }\n",
              "</style>\n",
              "<table border=\"1\" class=\"dataframe\">\n",
              "  <thead>\n",
              "    <tr style=\"text-align: right;\">\n",
              "      <th></th>\n",
              "      <th>LogLoss</th>\n",
              "    </tr>\n",
              "    <tr>\n",
              "      <th>K</th>\n",
              "      <th></th>\n",
              "    </tr>\n",
              "  </thead>\n",
              "  <tbody>\n",
              "    <tr>\n",
              "      <th>1</th>\n",
              "      <td>5.540419</td>\n",
              "    </tr>\n",
              "    <tr>\n",
              "      <th>2</th>\n",
              "      <td>3.181423</td>\n",
              "    </tr>\n",
              "    <tr>\n",
              "      <th>3</th>\n",
              "      <td>2.120647</td>\n",
              "    </tr>\n",
              "    <tr>\n",
              "      <th>4</th>\n",
              "      <td>1.558407</td>\n",
              "    </tr>\n",
              "    <tr>\n",
              "      <th>5</th>\n",
              "      <td>1.062878</td>\n",
              "    </tr>\n",
              "    <tr>\n",
              "      <th>6</th>\n",
              "      <td>0.926724</td>\n",
              "    </tr>\n",
              "    <tr>\n",
              "      <th>7</th>\n",
              "      <td>0.767398</td>\n",
              "    </tr>\n",
              "    <tr>\n",
              "      <th>8</th>\n",
              "      <td>0.605459</td>\n",
              "    </tr>\n",
              "    <tr>\n",
              "      <th>9</th>\n",
              "      <td>0.583287</td>\n",
              "    </tr>\n",
              "    <tr>\n",
              "      <th>10</th>\n",
              "      <td>0.498455</td>\n",
              "    </tr>\n",
              "    <tr>\n",
              "      <th>11</th>\n",
              "      <td>0.498361</td>\n",
              "    </tr>\n",
              "    <tr>\n",
              "      <th>12</th>\n",
              "      <td>0.497931</td>\n",
              "    </tr>\n",
              "    <tr>\n",
              "      <th>13</th>\n",
              "      <td>0.472895</td>\n",
              "    </tr>\n",
              "    <tr>\n",
              "      <th>14</th>\n",
              "      <td>0.445961</td>\n",
              "    </tr>\n",
              "    <tr>\n",
              "      <th>15</th>\n",
              "      <td>0.419365</td>\n",
              "    </tr>\n",
              "    <tr>\n",
              "      <th>16</th>\n",
              "      <td>0.394211</td>\n",
              "    </tr>\n",
              "    <tr>\n",
              "      <th>17</th>\n",
              "      <td>0.395665</td>\n",
              "    </tr>\n",
              "    <tr>\n",
              "      <th>18</th>\n",
              "      <td>0.395856</td>\n",
              "    </tr>\n",
              "    <tr>\n",
              "      <th>19</th>\n",
              "      <td>0.394139</td>\n",
              "    </tr>\n",
              "    <tr>\n",
              "      <th>20</th>\n",
              "      <td>0.394411</td>\n",
              "    </tr>\n",
              "    <tr>\n",
              "      <th>21</th>\n",
              "      <td>0.396232</td>\n",
              "    </tr>\n",
              "    <tr>\n",
              "      <th>22</th>\n",
              "      <td>0.397254</td>\n",
              "    </tr>\n",
              "    <tr>\n",
              "      <th>23</th>\n",
              "      <td>0.398779</td>\n",
              "    </tr>\n",
              "    <tr>\n",
              "      <th>24</th>\n",
              "      <td>0.399345</td>\n",
              "    </tr>\n",
              "    <tr>\n",
              "      <th>25</th>\n",
              "      <td>0.399123</td>\n",
              "    </tr>\n",
              "    <tr>\n",
              "      <th>26</th>\n",
              "      <td>0.399745</td>\n",
              "    </tr>\n",
              "    <tr>\n",
              "      <th>27</th>\n",
              "      <td>0.400207</td>\n",
              "    </tr>\n",
              "    <tr>\n",
              "      <th>28</th>\n",
              "      <td>0.400654</td>\n",
              "    </tr>\n",
              "    <tr>\n",
              "      <th>29</th>\n",
              "      <td>0.400220</td>\n",
              "    </tr>\n",
              "    <tr>\n",
              "      <th>30</th>\n",
              "      <td>0.374108</td>\n",
              "    </tr>\n",
              "    <tr>\n",
              "      <th>31</th>\n",
              "      <td>0.348174</td>\n",
              "    </tr>\n",
              "    <tr>\n",
              "      <th>32</th>\n",
              "      <td>0.348312</td>\n",
              "    </tr>\n",
              "    <tr>\n",
              "      <th>33</th>\n",
              "      <td>0.346894</td>\n",
              "    </tr>\n",
              "    <tr>\n",
              "      <th>34</th>\n",
              "      <td>0.348171</td>\n",
              "    </tr>\n",
              "    <tr>\n",
              "      <th>35</th>\n",
              "      <td>0.347906</td>\n",
              "    </tr>\n",
              "    <tr>\n",
              "      <th>36</th>\n",
              "      <td>0.348206</td>\n",
              "    </tr>\n",
              "    <tr>\n",
              "      <th>37</th>\n",
              "      <td>0.347462</td>\n",
              "    </tr>\n",
              "    <tr>\n",
              "      <th>38</th>\n",
              "      <td>0.346858</td>\n",
              "    </tr>\n",
              "    <tr>\n",
              "      <th>39</th>\n",
              "      <td>0.347113</td>\n",
              "    </tr>\n",
              "    <tr>\n",
              "      <th>40</th>\n",
              "      <td>0.347015</td>\n",
              "    </tr>\n",
              "    <tr>\n",
              "      <th>41</th>\n",
              "      <td>0.320188</td>\n",
              "    </tr>\n",
              "    <tr>\n",
              "      <th>42</th>\n",
              "      <td>0.319852</td>\n",
              "    </tr>\n",
              "    <tr>\n",
              "      <th>43</th>\n",
              "      <td>0.319928</td>\n",
              "    </tr>\n",
              "    <tr>\n",
              "      <th>44</th>\n",
              "      <td>0.320630</td>\n",
              "    </tr>\n",
              "    <tr>\n",
              "      <th>45</th>\n",
              "      <td>0.320782</td>\n",
              "    </tr>\n",
              "    <tr>\n",
              "      <th>46</th>\n",
              "      <td>0.320109</td>\n",
              "    </tr>\n",
              "    <tr>\n",
              "      <th>47</th>\n",
              "      <td>0.322086</td>\n",
              "    </tr>\n",
              "    <tr>\n",
              "      <th>48</th>\n",
              "      <td>0.322457</td>\n",
              "    </tr>\n",
              "    <tr>\n",
              "      <th>49</th>\n",
              "      <td>0.322476</td>\n",
              "    </tr>\n",
              "    <tr>\n",
              "      <th>50</th>\n",
              "      <td>0.322133</td>\n",
              "    </tr>\n",
              "  </tbody>\n",
              "</table>\n",
              "</div>"
            ],
            "text/plain": [
              "     LogLoss\n",
              "K           \n",
              "1   5.540419\n",
              "2   3.181423\n",
              "3   2.120647\n",
              "4   1.558407\n",
              "5   1.062878\n",
              "6   0.926724\n",
              "7   0.767398\n",
              "8   0.605459\n",
              "9   0.583287\n",
              "10  0.498455\n",
              "11  0.498361\n",
              "12  0.497931\n",
              "13  0.472895\n",
              "14  0.445961\n",
              "15  0.419365\n",
              "16  0.394211\n",
              "17  0.395665\n",
              "18  0.395856\n",
              "19  0.394139\n",
              "20  0.394411\n",
              "21  0.396232\n",
              "22  0.397254\n",
              "23  0.398779\n",
              "24  0.399345\n",
              "25  0.399123\n",
              "26  0.399745\n",
              "27  0.400207\n",
              "28  0.400654\n",
              "29  0.400220\n",
              "30  0.374108\n",
              "31  0.348174\n",
              "32  0.348312\n",
              "33  0.346894\n",
              "34  0.348171\n",
              "35  0.347906\n",
              "36  0.348206\n",
              "37  0.347462\n",
              "38  0.346858\n",
              "39  0.347113\n",
              "40  0.347015\n",
              "41  0.320188\n",
              "42  0.319852\n",
              "43  0.319928\n",
              "44  0.320630\n",
              "45  0.320782\n",
              "46  0.320109\n",
              "47  0.322086\n",
              "48  0.322457\n",
              "49  0.322476\n",
              "50  0.322133"
            ]
          },
          "metadata": {
            "tags": []
          },
          "execution_count": 14
        }
      ]
    },
    {
      "cell_type": "code",
      "metadata": {
        "colab": {
          "base_uri": "https://localhost:8080/",
          "height": 371
        },
        "id": "tZx1svGZ0PZl",
        "outputId": "bb87e590-d763-4c35-e4b5-b723ae179966"
      },
      "source": [
        "graf1 = error['LogLoss'].plot(kind='bar', figsize=(15,5), rot=360, title='Estado de Log Loss a raiz de K')\r\n",
        "ax = plt.gca()\r\n",
        "ax.set_ylabel('LogLoss')\r\n",
        "ax.set_xlabel('K')\r\n",
        "ax.set_xlim(0)"
      ],
      "execution_count": null,
      "outputs": [
        {
          "output_type": "execute_result",
          "data": {
            "text/plain": [
              "(0.0, 49.5)"
            ]
          },
          "metadata": {
            "tags": []
          },
          "execution_count": 15
        },
        {
          "output_type": "display_data",
          "data": {
            "image/png": "[encoded data removed]",
            "text/plain": [
              "<Figure size 1080x360 with 1 Axes>"
            ]
          },
          "metadata": {
            "tags": []
          }
        }
      ]
    },
    {
      "cell_type": "markdown",
      "metadata": {
        "id": "9K6ZnhkXYxoD"
      },
      "source": [
        "Aplico KNN"
      ]
    },
    {
      "cell_type": "code",
      "metadata": {
        "colab": {
          "base_uri": "https://localhost:8080/"
        },
        "id": "7FtMa-JEYCbR",
        "outputId": "42397c40-fadc-40e0-f083-49dcbed9b891"
      },
      "source": [
        "n_neighbors = 43\r\n",
        "\r\n",
        "knn = KNeighborsRegressor(n_neighbors)\r\n",
        "knn.fit(X_train, y_train)"
      ],
      "execution_count": null,
      "outputs": [
        {
          "output_type": "execute_result",
          "data": {
            "text/plain": [
              "KNeighborsRegressor(algorithm='auto', leaf_size=30, metric='minkowski',\n",
              "                    metric_params=None, n_jobs=None, n_neighbors=43, p=2,\n",
              "                    weights='uniform')"
            ]
          },
          "metadata": {
            "tags": []
          },
          "execution_count": 16
        }
      ]
    },
    {
      "cell_type": "code",
      "metadata": {
        "id": "-dmFPHSeYDFh"
      },
      "source": [
        "pred = knn.predict(X_test)"
      ],
      "execution_count": null,
      "outputs": []
    },
    {
      "cell_type": "markdown",
      "metadata": {
        "id": "mXnbmQGxu43F"
      },
      "source": [
        "Visualizamos"
      ]
    },
    {
      "cell_type": "code",
      "metadata": {
        "colab": {
          "base_uri": "https://localhost:8080/",
          "height": 626
        },
        "id": "wwlK-pESt1HV",
        "outputId": "b7823b19-4656-4a07-9668-896d74727807"
      },
      "source": [
        "rcParams['figure.figsize'] = 15,10\r\n",
        "\r\n",
        "plt.plot(pred, 'k*', label='knn')\r\n",
        "\r\n",
        "plt.tick_params(axis='x', which='both', bottom=False, top=False,\r\n",
        "                labelbottom=False)\r\n",
        "plt.ylabel('predicted')\r\n",
        "plt.xlabel('training samples')\r\n",
        "plt.legend(loc=\"best\")\r\n",
        "plt.title('Predictions')"
      ],
      "execution_count": null,
      "outputs": [
        {
          "output_type": "execute_result",
          "data": {
            "text/plain": [
              "Text(0.5, 1.0, 'Predictions')"
            ]
          },
          "metadata": {
            "tags": []
          },
          "execution_count": 53
        },
        {
          "output_type": "display_data",
          "data": {
            "image/png": "[encoded data removed]",
            "text/plain": [
              "<Figure size 1080x720 with 1 Axes>"
            ]
          },
          "metadata": {
            "tags": []
          }
        }
      ]
    },
    {
      "cell_type": "code",
      "metadata": {
        "colab": {
          "base_uri": "https://localhost:8080/"
        },
        "id": "exjxP3z0Bcnt",
        "outputId": "3ac4892f-0d07-40c8-8c7e-6705ae197a78"
      },
      "source": [
        "loss = log_loss(y_test, pred)\r\n",
        "print(f\"Log Loss is {loss}\")\r\n"
      ],
      "execution_count": null,
      "outputs": [
        {
          "output_type": "stream",
          "text": [
            "Log Loss is 0.3199283714757076\n"
          ],
          "name": "stdout"
        }
      ]
    },
    {
      "cell_type": "markdown",
      "metadata": {
        "id": "paq8KDjuF3zH"
      },
      "source": [
        "Log Loss de 0.31, ahora apliquemos al modelo al Dataframe Test"
      ]
    },
    {
      "cell_type": "code",
      "metadata": {
        "colab": {
          "base_uri": "https://localhost:8080/",
          "height": 221
        },
        "id": "5-kKoFJZecAj",
        "outputId": "ad2672c6-e8fb-40f3-87df-bd47da60ba50"
      },
      "source": [
        "test.head()"
      ],
      "execution_count": null,
      "outputs": [
        {
          "output_type": "execute_result",
          "data": {
            "text/html": [
              "<div>\n",
              "<style scoped>\n",
              "    .dataframe tbody tr th:only-of-type {\n",
              "        vertical-align: middle;\n",
              "    }\n",
              "\n",
              "    .dataframe tbody tr th {\n",
              "        vertical-align: top;\n",
              "    }\n",
              "\n",
              "    .dataframe thead th {\n",
              "        text-align: right;\n",
              "    }\n",
              "</style>\n",
              "<table border=\"1\" class=\"dataframe\">\n",
              "  <thead>\n",
              "    <tr style=\"text-align: right;\">\n",
              "      <th></th>\n",
              "      <th>Unnamed: 0</th>\n",
              "      <th>Region_APAC</th>\n",
              "      <th>Region_Americas</th>\n",
              "      <th>Region_EMEA</th>\n",
              "      <th>Region_Japan</th>\n",
              "      <th>Region_Middle East</th>\n",
              "      <th>Opportunity_ID</th>\n",
              "      <th>Total_Amount</th>\n",
              "      <th>TRF</th>\n",
              "      <th>Pricing, Delivery_Terms_Approved</th>\n",
              "      <th>Pricing, Delivery_Terms_Quote_Appr</th>\n",
              "    </tr>\n",
              "  </thead>\n",
              "  <tbody>\n",
              "    <tr>\n",
              "      <th>0</th>\n",
              "      <td>0</td>\n",
              "      <td>0.0</td>\n",
              "      <td>0.0</td>\n",
              "      <td>1.0</td>\n",
              "      <td>0.0</td>\n",
              "      <td>0.0</td>\n",
              "      <td>10689.0</td>\n",
              "      <td>11.905436</td>\n",
              "      <td>0.0</td>\n",
              "      <td>1.0</td>\n",
              "      <td>1.0</td>\n",
              "    </tr>\n",
              "    <tr>\n",
              "      <th>1</th>\n",
              "      <td>1</td>\n",
              "      <td>0.0</td>\n",
              "      <td>0.0</td>\n",
              "      <td>1.0</td>\n",
              "      <td>0.0</td>\n",
              "      <td>0.0</td>\n",
              "      <td>10690.0</td>\n",
              "      <td>11.787392</td>\n",
              "      <td>0.0</td>\n",
              "      <td>1.0</td>\n",
              "      <td>1.0</td>\n",
              "    </tr>\n",
              "    <tr>\n",
              "      <th>2</th>\n",
              "      <td>2</td>\n",
              "      <td>0.0</td>\n",
              "      <td>1.0</td>\n",
              "      <td>0.0</td>\n",
              "      <td>0.0</td>\n",
              "      <td>0.0</td>\n",
              "      <td>10691.0</td>\n",
              "      <td>9.954062</td>\n",
              "      <td>0.0</td>\n",
              "      <td>1.0</td>\n",
              "      <td>1.0</td>\n",
              "    </tr>\n",
              "    <tr>\n",
              "      <th>3</th>\n",
              "      <td>3</td>\n",
              "      <td>0.0</td>\n",
              "      <td>1.0</td>\n",
              "      <td>0.0</td>\n",
              "      <td>0.0</td>\n",
              "      <td>0.0</td>\n",
              "      <td>10692.0</td>\n",
              "      <td>12.338534</td>\n",
              "      <td>1.0</td>\n",
              "      <td>1.0</td>\n",
              "      <td>1.0</td>\n",
              "    </tr>\n",
              "    <tr>\n",
              "      <th>4</th>\n",
              "      <td>4</td>\n",
              "      <td>0.0</td>\n",
              "      <td>1.0</td>\n",
              "      <td>0.0</td>\n",
              "      <td>0.0</td>\n",
              "      <td>0.0</td>\n",
              "      <td>10693.0</td>\n",
              "      <td>8.657390</td>\n",
              "      <td>0.0</td>\n",
              "      <td>0.0</td>\n",
              "      <td>0.0</td>\n",
              "    </tr>\n",
              "  </tbody>\n",
              "</table>\n",
              "</div>"
            ],
            "text/plain": [
              "   Unnamed: 0  ...  Pricing, Delivery_Terms_Quote_Appr\n",
              "0           0  ...                                 1.0\n",
              "1           1  ...                                 1.0\n",
              "2           2  ...                                 1.0\n",
              "3           3  ...                                 1.0\n",
              "4           4  ...                                 0.0\n",
              "\n",
              "[5 rows x 11 columns]"
            ]
          },
          "metadata": {
            "tags": []
          },
          "execution_count": 20
        }
      ]
    },
    {
      "cell_type": "markdown",
      "metadata": {
        "id": "zCbav9bGZC7N"
      },
      "source": [
        "Lo limpio para que concuerde con el modelo\r\n"
      ]
    },
    {
      "cell_type": "code",
      "metadata": {
        "id": "-7YWa9F5fDkr"
      },
      "source": [
        "test_limpio =  test.drop(columns= {'Unnamed: 0'})\r\n",
        "test_limpio =  test_limpio.drop(columns= {'Opportunity_ID'})"
      ],
      "execution_count": null,
      "outputs": []
    },
    {
      "cell_type": "code",
      "metadata": {
        "colab": {
          "base_uri": "https://localhost:8080/",
          "height": 204
        },
        "id": "iK-nTwRHgKfN",
        "outputId": "70f6a843-b2bd-4c03-dbf7-af19176f5cec"
      },
      "source": [
        "test_limpio.head()"
      ],
      "execution_count": null,
      "outputs": [
        {
          "output_type": "execute_result",
          "data": {
            "text/html": [
              "<div>\n",
              "<style scoped>\n",
              "    .dataframe tbody tr th:only-of-type {\n",
              "        vertical-align: middle;\n",
              "    }\n",
              "\n",
              "    .dataframe tbody tr th {\n",
              "        vertical-align: top;\n",
              "    }\n",
              "\n",
              "    .dataframe thead th {\n",
              "        text-align: right;\n",
              "    }\n",
              "</style>\n",
              "<table border=\"1\" class=\"dataframe\">\n",
              "  <thead>\n",
              "    <tr style=\"text-align: right;\">\n",
              "      <th></th>\n",
              "      <th>Region_APAC</th>\n",
              "      <th>Region_Americas</th>\n",
              "      <th>Region_EMEA</th>\n",
              "      <th>Region_Japan</th>\n",
              "      <th>Region_Middle East</th>\n",
              "      <th>Total_Amount</th>\n",
              "      <th>TRF</th>\n",
              "      <th>Pricing, Delivery_Terms_Approved</th>\n",
              "      <th>Pricing, Delivery_Terms_Quote_Appr</th>\n",
              "    </tr>\n",
              "  </thead>\n",
              "  <tbody>\n",
              "    <tr>\n",
              "      <th>0</th>\n",
              "      <td>0.0</td>\n",
              "      <td>0.0</td>\n",
              "      <td>1.0</td>\n",
              "      <td>0.0</td>\n",
              "      <td>0.0</td>\n",
              "      <td>11.905436</td>\n",
              "      <td>0.0</td>\n",
              "      <td>1.0</td>\n",
              "      <td>1.0</td>\n",
              "    </tr>\n",
              "    <tr>\n",
              "      <th>1</th>\n",
              "      <td>0.0</td>\n",
              "      <td>0.0</td>\n",
              "      <td>1.0</td>\n",
              "      <td>0.0</td>\n",
              "      <td>0.0</td>\n",
              "      <td>11.787392</td>\n",
              "      <td>0.0</td>\n",
              "      <td>1.0</td>\n",
              "      <td>1.0</td>\n",
              "    </tr>\n",
              "    <tr>\n",
              "      <th>2</th>\n",
              "      <td>0.0</td>\n",
              "      <td>1.0</td>\n",
              "      <td>0.0</td>\n",
              "      <td>0.0</td>\n",
              "      <td>0.0</td>\n",
              "      <td>9.954062</td>\n",
              "      <td>0.0</td>\n",
              "      <td>1.0</td>\n",
              "      <td>1.0</td>\n",
              "    </tr>\n",
              "    <tr>\n",
              "      <th>3</th>\n",
              "      <td>0.0</td>\n",
              "      <td>1.0</td>\n",
              "      <td>0.0</td>\n",
              "      <td>0.0</td>\n",
              "      <td>0.0</td>\n",
              "      <td>12.338534</td>\n",
              "      <td>1.0</td>\n",
              "      <td>1.0</td>\n",
              "      <td>1.0</td>\n",
              "    </tr>\n",
              "    <tr>\n",
              "      <th>4</th>\n",
              "      <td>0.0</td>\n",
              "      <td>1.0</td>\n",
              "      <td>0.0</td>\n",
              "      <td>0.0</td>\n",
              "      <td>0.0</td>\n",
              "      <td>8.657390</td>\n",
              "      <td>0.0</td>\n",
              "      <td>0.0</td>\n",
              "      <td>0.0</td>\n",
              "    </tr>\n",
              "  </tbody>\n",
              "</table>\n",
              "</div>"
            ],
            "text/plain": [
              "   Region_APAC  ...  Pricing, Delivery_Terms_Quote_Appr\n",
              "0          0.0  ...                                 1.0\n",
              "1          0.0  ...                                 1.0\n",
              "2          0.0  ...                                 1.0\n",
              "3          0.0  ...                                 1.0\n",
              "4          0.0  ...                                 0.0\n",
              "\n",
              "[5 rows x 9 columns]"
            ]
          },
          "metadata": {
            "tags": []
          },
          "execution_count": 22
        }
      ]
    },
    {
      "cell_type": "code",
      "metadata": {
        "id": "RiQJVSZ0hMtj"
      },
      "source": [
        "X = preprocessing.scale(test_limpio)"
      ],
      "execution_count": null,
      "outputs": []
    },
    {
      "cell_type": "markdown",
      "metadata": {
        "id": "eCmEg03HZM8U"
      },
      "source": [
        "Finalmente predigo"
      ]
    },
    {
      "cell_type": "code",
      "metadata": {
        "colab": {
          "base_uri": "https://localhost:8080/"
        },
        "id": "c73wMq0zdkT9",
        "outputId": "232fc862-cbef-49eb-eecb-bcf4b921ec1e"
      },
      "source": [
        "pred = knn.predict(X)\r\n",
        "pred"
      ],
      "execution_count": null,
      "outputs": [
        {
          "output_type": "execute_result",
          "data": {
            "text/plain": [
              "array([0.93023256, 0.93023256, 0.62790698, ..., 0.62790698, 0.62790698,\n",
              "       0.13953488])"
            ]
          },
          "metadata": {
            "tags": []
          },
          "execution_count": 24
        }
      ]
    },
    {
      "cell_type": "markdown",
      "metadata": {
        "id": "-Qx4PiEfIoOa"
      },
      "source": [
        "Y lo configuramos para que este en el formato esperado"
      ]
    },
    {
      "cell_type": "code",
      "metadata": {
        "colab": {
          "base_uri": "https://localhost:8080/",
          "height": 450
        },
        "id": "l91p2BXqgdjS",
        "outputId": "4e4dd53a-2207-4574-a89b-39e297057e1f"
      },
      "source": [
        "subir = pd.DataFrame()\r\n",
        "subir['Opportunity_ID'] = test['Opportunity_ID']\r\n",
        "subir['target'] = pred\r\n",
        "subir['Opportunity_ID'] = pd.to_numeric(subir['Opportunity_ID'], downcast='integer')\r\n",
        "subir.sort_values('Opportunity_ID',inplace = True)\r\n",
        "subir = subir.drop_duplicates('Opportunity_ID',keep = 'last')\r\n",
        "subir.set_index('Opportunity_ID', inplace = True)\r\n",
        "subir"
      ],
      "execution_count": null,
      "outputs": [
        {
          "output_type": "execute_result",
          "data": {
            "text/html": [
              "<div>\n",
              "<style scoped>\n",
              "    .dataframe tbody tr th:only-of-type {\n",
              "        vertical-align: middle;\n",
              "    }\n",
              "\n",
              "    .dataframe tbody tr th {\n",
              "        vertical-align: top;\n",
              "    }\n",
              "\n",
              "    .dataframe thead th {\n",
              "        text-align: right;\n",
              "    }\n",
              "</style>\n",
              "<table border=\"1\" class=\"dataframe\">\n",
              "  <thead>\n",
              "    <tr style=\"text-align: right;\">\n",
              "      <th></th>\n",
              "      <th>target</th>\n",
              "    </tr>\n",
              "    <tr>\n",
              "      <th>Opportunity_ID</th>\n",
              "      <th></th>\n",
              "    </tr>\n",
              "  </thead>\n",
              "  <tbody>\n",
              "    <tr>\n",
              "      <th>10689</th>\n",
              "      <td>0.930233</td>\n",
              "    </tr>\n",
              "    <tr>\n",
              "      <th>10690</th>\n",
              "      <td>0.930233</td>\n",
              "    </tr>\n",
              "    <tr>\n",
              "      <th>10691</th>\n",
              "      <td>0.627907</td>\n",
              "    </tr>\n",
              "    <tr>\n",
              "      <th>10692</th>\n",
              "      <td>0.651163</td>\n",
              "    </tr>\n",
              "    <tr>\n",
              "      <th>10693</th>\n",
              "      <td>0.883721</td>\n",
              "    </tr>\n",
              "    <tr>\n",
              "      <th>...</th>\n",
              "      <td>...</td>\n",
              "    </tr>\n",
              "    <tr>\n",
              "      <th>12364</th>\n",
              "      <td>0.930233</td>\n",
              "    </tr>\n",
              "    <tr>\n",
              "      <th>12365</th>\n",
              "      <td>0.627907</td>\n",
              "    </tr>\n",
              "    <tr>\n",
              "      <th>12366</th>\n",
              "      <td>0.627907</td>\n",
              "    </tr>\n",
              "    <tr>\n",
              "      <th>12367</th>\n",
              "      <td>0.627907</td>\n",
              "    </tr>\n",
              "    <tr>\n",
              "      <th>12368</th>\n",
              "      <td>0.139535</td>\n",
              "    </tr>\n",
              "  </tbody>\n",
              "</table>\n",
              "<p>1567 rows × 1 columns</p>\n",
              "</div>"
            ],
            "text/plain": [
              "                  target\n",
              "Opportunity_ID          \n",
              "10689           0.930233\n",
              "10690           0.930233\n",
              "10691           0.627907\n",
              "10692           0.651163\n",
              "10693           0.883721\n",
              "...                  ...\n",
              "12364           0.930233\n",
              "12365           0.627907\n",
              "12366           0.627907\n",
              "12367           0.627907\n",
              "12368           0.139535\n",
              "\n",
              "[1567 rows x 1 columns]"
            ]
          },
          "metadata": {
            "tags": []
          },
          "execution_count": 26
        }
      ]
    },
    {
      "cell_type": "markdown",
      "metadata": {
        "id": "98rlNx8rIvsJ"
      },
      "source": [
        "Analisamos si sus valores son logicos"
      ]
    },
    {
      "cell_type": "code",
      "metadata": {
        "colab": {
          "base_uri": "https://localhost:8080/"
        },
        "id": "YpsVFrPKNgTn",
        "outputId": "a273d203-c426-4f16-fe2b-2fe4dbbe762a"
      },
      "source": [
        "subir.value_counts()"
      ],
      "execution_count": null,
      "outputs": [
        {
          "output_type": "execute_result",
          "data": {
            "text/plain": [
              "target  \n",
              "0.930233    247\n",
              "0.883721    208\n",
              "0.953488    165\n",
              "1.000000    149\n",
              "0.651163    146\n",
              "0.627907    134\n",
              "0.093023     68\n",
              "0.162791     61\n",
              "0.488372     55\n",
              "0.209302     42\n",
              "0.000000     29\n",
              "0.860465     28\n",
              "0.604651     28\n",
              "0.372093     24\n",
              "0.139535     22\n",
              "0.302326     19\n",
              "0.232558     16\n",
              "0.186047     14\n",
              "0.534884     13\n",
              "0.511628     12\n",
              "0.813953      9\n",
              "0.023256      8\n",
              "0.418605      7\n",
              "0.976744      6\n",
              "0.465116      5\n",
              "0.720930      5\n",
              "0.558140      4\n",
              "0.837209      4\n",
              "0.395349      4\n",
              "0.069767      4\n",
              "0.116279      4\n",
              "0.906977      3\n",
              "0.767442      3\n",
              "0.279070      3\n",
              "0.790698      3\n",
              "0.348837      3\n",
              "0.744186      3\n",
              "0.255814      2\n",
              "0.325581      2\n",
              "0.441860      2\n",
              "0.674419      1\n",
              "0.697674      1\n",
              "0.581395      1\n",
              "dtype: int64"
            ]
          },
          "metadata": {
            "tags": []
          },
          "execution_count": 27
        }
      ]
    },
    {
      "cell_type": "code",
      "metadata": {
        "colab": {
          "base_uri": "https://localhost:8080/",
          "height": 297
        },
        "id": "aYd-nGvsLkE3",
        "outputId": "cfb45857-2759-4eed-ed66-1f96c5ea7f5f"
      },
      "source": [
        "subir.describe()"
      ],
      "execution_count": null,
      "outputs": [
        {
          "output_type": "execute_result",
          "data": {
            "text/html": [
              "<div>\n",
              "<style scoped>\n",
              "    .dataframe tbody tr th:only-of-type {\n",
              "        vertical-align: middle;\n",
              "    }\n",
              "\n",
              "    .dataframe tbody tr th {\n",
              "        vertical-align: top;\n",
              "    }\n",
              "\n",
              "    .dataframe thead th {\n",
              "        text-align: right;\n",
              "    }\n",
              "</style>\n",
              "<table border=\"1\" class=\"dataframe\">\n",
              "  <thead>\n",
              "    <tr style=\"text-align: right;\">\n",
              "      <th></th>\n",
              "      <th>target</th>\n",
              "    </tr>\n",
              "  </thead>\n",
              "  <tbody>\n",
              "    <tr>\n",
              "      <th>count</th>\n",
              "      <td>1567.000000</td>\n",
              "    </tr>\n",
              "    <tr>\n",
              "      <th>mean</th>\n",
              "      <td>0.685935</td>\n",
              "    </tr>\n",
              "    <tr>\n",
              "      <th>std</th>\n",
              "      <td>0.305545</td>\n",
              "    </tr>\n",
              "    <tr>\n",
              "      <th>min</th>\n",
              "      <td>0.000000</td>\n",
              "    </tr>\n",
              "    <tr>\n",
              "      <th>25%</th>\n",
              "      <td>0.488372</td>\n",
              "    </tr>\n",
              "    <tr>\n",
              "      <th>50%</th>\n",
              "      <td>0.860465</td>\n",
              "    </tr>\n",
              "    <tr>\n",
              "      <th>75%</th>\n",
              "      <td>0.930233</td>\n",
              "    </tr>\n",
              "    <tr>\n",
              "      <th>max</th>\n",
              "      <td>1.000000</td>\n",
              "    </tr>\n",
              "  </tbody>\n",
              "</table>\n",
              "</div>"
            ],
            "text/plain": [
              "            target\n",
              "count  1567.000000\n",
              "mean      0.685935\n",
              "std       0.305545\n",
              "min       0.000000\n",
              "25%       0.488372\n",
              "50%       0.860465\n",
              "75%       0.930233\n",
              "max       1.000000"
            ]
          },
          "metadata": {
            "tags": []
          },
          "execution_count": 28
        }
      ]
    },
    {
      "cell_type": "markdown",
      "metadata": {
        "id": "na7IMIaiI1bF"
      },
      "source": [
        "Y lo exportamos\r\n"
      ]
    },
    {
      "cell_type": "code",
      "metadata": {
        "id": "M-x3o81WgqvT",
        "colab": {
          "base_uri": "https://localhost:8080/",
          "height": 17
        },
        "outputId": "9007f5ec-f0d8-42dc-d1ab-d0f47e2ab029"
      },
      "source": [
        "csv3 = subir.to_csv('knn_pred_1.csv')\r\n",
        "files.download('knn_pred_1.csv')"
      ],
      "execution_count": null,
      "outputs": [
        {
          "output_type": "display_data",
          "data": {
            "application/javascript": [
              "\n",
              "    async function download(id, filename, size) {\n",
              "      if (!google.colab.kernel.accessAllowed) {\n",
              "        return;\n",
              "      }\n",
              "      const div = document.createElement('div');\n",
              "      const label = document.createElement('label');\n",
              "      label.textContent = `Downloading \"${filename}\": `;\n",
              "      div.appendChild(label);\n",
              "      const progress = document.createElement('progress');\n",
              "      progress.max = size;\n",
              "      div.appendChild(progress);\n",
              "      document.body.appendChild(div);\n",
              "\n",
              "      const buffers = [];\n",
              "      let downloaded = 0;\n",
              "\n",
              "      const channel = await google.colab.kernel.comms.open(id);\n",
              "      // Send a message to notify the kernel that we're ready.\n",
              "      channel.send({})\n",
              "\n",
              "      for await (const message of channel.messages) {\n",
              "        // Send a message to notify the kernel that we're ready.\n",
              "        channel.send({})\n",
              "        if (message.buffers) {\n",
              "          for (const buffer of message.buffers) {\n",
              "            buffers.push(buffer);\n",
              "            downloaded += buffer.byteLength;\n",
              "            progress.value = downloaded;\n",
              "          }\n",
              "        }\n",
              "      }\n",
              "      const blob = new Blob(buffers, {type: 'application/binary'});\n",
              "      const a = document.createElement('a');\n",
              "      a.href = window.URL.createObjectURL(blob);\n",
              "      a.download = filename;\n",
              "      div.appendChild(a);\n",
              "      a.click();\n",
              "      div.remove();\n",
              "    }\n",
              "  "
            ],
            "text/plain": [
              "<IPython.core.display.Javascript object>"
            ]
          },
          "metadata": {
            "tags": []
          }
        },
        {
          "output_type": "display_data",
          "data": {
            "application/javascript": [
              "download(\"download_b66909b8-a644-498e-a14f-21b9d8956a48\", \"knn_pred_1.csv\", 36665)"
            ],
            "text/plain": [
              "<IPython.core.display.Javascript object>"
            ]
          },
          "metadata": {
            "tags": []
          }
        }
      ]
    }
  ]
}